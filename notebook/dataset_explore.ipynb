{
 "cells": [
  {
   "cell_type": "code",
   "execution_count": null,
   "id": "6d4e3a86",
   "metadata": {},
   "outputs": [],
   "source": [
    "import os\n",
    "import warnings\n",
    "from pathlib import Path\n",
    "\n",
    "# --- Working directory ---\n",
    "PROJECT_DIR = Path().resolve()\n",
    "PROJECT_ROOT_NAME = 'astro-diffusion'\n",
    "\n",
    "while PROJECT_DIR.name != PROJECT_ROOT_NAME and PROJECT_DIR != PROJECT_DIR.parent:\n",
    "    PROJECT_DIR = PROJECT_DIR.parent\n",
    "\n",
    "if Path().resolve() != PROJECT_DIR:\n",
    "    os.chdir(PROJECT_DIR)\n",
    "\n",
    "# --- Import dependencies & modules ---\n",
    "import h5py\n",
    "from src.utils import Galaxies_ML_Dataset"
   ]
  },
  {
   "cell_type": "code",
   "execution_count": null,
   "id": "e3dabb80",
   "metadata": {},
   "outputs": [],
   "source": [
    "train_set = Galaxies_ML_Dataset('data/train/galaxies_ml_train_set.hdf5')\n",
    "with h5py.File('data/train/galaxies_ml_train_set.hdf5', 'r') as f:\n",
    "    print(list(f))\n",
    "\n",
    "print(train_set[0][0].size())"
   ]
  }
 ],
 "metadata": {
  "kernelspec": {
   "display_name": "venv",
   "language": "python",
   "name": "python3"
  },
  "language_info": {
   "codemirror_mode": {
    "name": "ipython",
    "version": 3
   },
   "file_extension": ".py",
   "mimetype": "text/x-python",
   "name": "python",
   "nbconvert_exporter": "python",
   "pygments_lexer": "ipython3",
   "version": "3.13.7"
  }
 },
 "nbformat": 4,
 "nbformat_minor": 5
}
